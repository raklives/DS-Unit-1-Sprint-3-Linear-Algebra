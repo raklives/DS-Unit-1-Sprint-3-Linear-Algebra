{
  "nbformat": 4,
  "nbformat_minor": 0,
  "metadata": {
    "colab": {
      "name": "Copy of LS_DS_133_High_Dimensional_Data_Assignment.ipynb",
      "provenance": [],
      "collapsed_sections": [],
      "include_colab_link": true
    },
    "kernelspec": {
      "display_name": "Python 3",
      "language": "python",
      "name": "python3"
    },
    "language_info": {
      "codemirror_mode": {
        "name": "ipython",
        "version": 3
      },
      "file_extension": ".py",
      "mimetype": "text/x-python",
      "name": "python",
      "nbconvert_exporter": "python",
      "pygments_lexer": "ipython3",
      "version": "3.7.3"
    }
  },
  "cells": [
    {
      "cell_type": "markdown",
      "metadata": {
        "id": "view-in-github",
        "colab_type": "text"
      },
      "source": [
        "<a href=\"https://colab.research.google.com/github/raklives/DS-Unit-1-Sprint-3-Linear-Algebra/blob/master/austin_of_LS_DS_133_High_Dimensional_Data_Assignment.ipynb\" target=\"_parent\"><img src=\"https://colab.research.google.com/assets/colab-badge.svg\" alt=\"Open In Colab\"/></a>"
      ]
    },
    {
      "cell_type": "markdown",
      "metadata": {
        "id": "euatw4WTA4Rd",
        "colab_type": "text"
      },
      "source": [
        "## Principal Components Analysis\n",
        "### 0. Why is it useful?"
      ]
    },
    {
      "cell_type": "code",
      "metadata": {
        "id": "kziNJ0NHA4Rg",
        "colab_type": "code",
        "colab": {}
      },
      "source": [
        "# import the PCA module from sklearn"
      ],
      "execution_count": 0,
      "outputs": []
    },
    {
      "cell_type": "code",
      "metadata": {
        "id": "_LsfaA0xA4Rk",
        "colab_type": "code",
        "colab": {}
      },
      "source": [
        "# read in a dataset of word vectors (this is from Unit 4 Lesson 2: NLP)\n",
        "url ='https://raw.githubusercontent.com/austinlasseter/learnspacy/master/words300df.csv'\n"
      ],
      "execution_count": 0,
      "outputs": []
    },
    {
      "cell_type": "code",
      "metadata": {
        "id": "vC5V1kSnA4Rq",
        "colab_type": "code",
        "colab": {}
      },
      "source": [
        "# make a list of 10 words from Unit 4 Lesson 2\n",
        "# these words are the index of the df\n"
      ],
      "execution_count": 0,
      "outputs": []
    },
    {
      "cell_type": "code",
      "metadata": {
        "id": "8FKF1iBRA4Rt",
        "colab_type": "code",
        "colab": {}
      },
      "source": [
        "# Take a look at the df\n"
      ],
      "execution_count": 0,
      "outputs": []
    },
    {
      "cell_type": "code",
      "metadata": {
        "id": "5dFM0nuFA4Rw",
        "colab_type": "code",
        "colab": {}
      },
      "source": [
        "# let's look at our first word and its 300D word vectors\n",
        "# Why 300? https://code.google.com/archive/p/word2vec/\n"
      ],
      "execution_count": 0,
      "outputs": []
    },
    {
      "cell_type": "code",
      "metadata": {
        "id": "4CYfvlxFA4Ry",
        "colab_type": "code",
        "colab": {}
      },
      "source": [
        "# intialise the pca model \n"
      ],
      "execution_count": 0,
      "outputs": []
    },
    {
      "cell_type": "code",
      "metadata": {
        "id": "LfwnB8-SA4R3",
        "colab_type": "code",
        "colab": {}
      },
      "source": [
        "# fit the pca model to our 300-dimensional data, this will work out which is the best \n",
        "# way to project the data down that will best maintain the relative distances \n",
        "# between data points. It will store these intructions on how to transform the data.\n"
      ],
      "execution_count": 0,
      "outputs": []
    },
    {
      "cell_type": "code",
      "metadata": {
        "id": "9E8zGFS9A4R5",
        "colab_type": "code",
        "colab": {}
      },
      "source": [
        "# Tell our (fitted) pca model to transform our 300D data down onto 2D using the \n",
        "# instructions it learnt during the fit phase.\n"
      ],
      "execution_count": 0,
      "outputs": []
    },
    {
      "cell_type": "code",
      "metadata": {
        "id": "3LkV9IePA4R-",
        "colab_type": "code",
        "colab": {}
      },
      "source": [
        "# let's take look at our first word and its new 2D word vectors\n"
      ],
      "execution_count": 0,
      "outputs": []
    },
    {
      "cell_type": "code",
      "metadata": {
        "id": "HWkSB8jiA4SB",
        "colab_type": "code",
        "colab": {}
      },
      "source": [
        "# each word and vector pair are coordinates\n"
      ],
      "execution_count": 0,
      "outputs": []
    },
    {
      "cell_type": "code",
      "metadata": {
        "id": "HyoPEILxA4SE",
        "colab_type": "code",
        "colab": {}
      },
      "source": [
        "# Make that into a dataframe\n"
      ],
      "execution_count": 0,
      "outputs": []
    },
    {
      "cell_type": "code",
      "metadata": {
        "id": "POFbmRujA4SH",
        "colab_type": "code",
        "colab": {}
      },
      "source": [
        "# create a  plot \n"
      ],
      "execution_count": 0,
      "outputs": []
    },
    {
      "cell_type": "markdown",
      "metadata": {
        "id": "91GHkqQHA4SK",
        "colab_type": "text"
      },
      "source": [
        "### Plotly graph  \n",
        "* Plotly website: https://plot.ly/python/\n",
        "* Plotly Forum: https://community.plot.ly/\n",
        "* Github repository: https://github.com/austinlasseter/plotly_dash_tutorial\n",
        "\n"
      ]
    },
    {
      "cell_type": "code",
      "metadata": {
        "id": "ikLg-wWIA4SK",
        "colab_type": "code",
        "colab": {}
      },
      "source": [
        "# imports for plotly\n",
        "import plotly\n",
        "import plotly.graph_objs as go\n"
      ],
      "execution_count": 0,
      "outputs": []
    },
    {
      "cell_type": "code",
      "metadata": {
        "id": "oQZp3YO-A4SN",
        "colab_type": "code",
        "colab": {}
      },
      "source": [
        "# define a function for colab notebooks:\n"
      ],
      "execution_count": 0,
      "outputs": []
    },
    {
      "cell_type": "code",
      "metadata": {
        "id": "44FfshP3A4SQ",
        "colab_type": "code",
        "colab": {}
      },
      "source": [
        "# then run in each cell that you want to use plotly:\n"
      ],
      "execution_count": 0,
      "outputs": []
    },
    {
      "cell_type": "code",
      "metadata": {
        "id": "uBromDpcA4ST",
        "colab_type": "code",
        "colab": {}
      },
      "source": [
        "# for each word and coordinate pair: draw the text on the plot\n"
      ],
      "execution_count": 0,
      "outputs": []
    },
    {
      "cell_type": "code",
      "metadata": {
        "id": "O766KNkYA4SZ",
        "colab_type": "code",
        "colab": {}
      },
      "source": [
        "# now with plotly create a dictionary of values using the 'go.Scatter' class\n"
      ],
      "execution_count": 0,
      "outputs": []
    },
    {
      "cell_type": "code",
      "metadata": {
        "id": "jKSihNSnA4Sc",
        "colab_type": "code",
        "colab": {}
      },
      "source": [
        "enable_plotly_in_cell() # don't forget to include this! It's just for colab notebooks.\n",
        "# wrap that dictionary into a list and display using 'go.Figure' class\n"
      ],
      "execution_count": 0,
      "outputs": []
    },
    {
      "cell_type": "markdown",
      "metadata": {
        "id": "TNTgWWzVA4Se",
        "colab_type": "text"
      },
      "source": [
        "### 3 dimensions"
      ]
    },
    {
      "cell_type": "code",
      "metadata": {
        "id": "zwUAIkhDA4Sf",
        "colab_type": "code",
        "colab": {}
      },
      "source": [
        "# intialise pca model for 3 dimensions\n"
      ],
      "execution_count": 0,
      "outputs": []
    },
    {
      "cell_type": "code",
      "metadata": {
        "id": "20GeaG_8A4Sh",
        "colab_type": "code",
        "colab": {}
      },
      "source": [
        "# fit the pca model to our 300-dimensional data\n"
      ],
      "execution_count": 0,
      "outputs": []
    },
    {
      "cell_type": "code",
      "metadata": {
        "id": "925JxMCKA4Sk",
        "colab_type": "code",
        "colab": {}
      },
      "source": [
        "# Tell our (fitted) pca model to transform our 300D data down onto 2D using the \n",
        "# instructions it learnt during the fit phase.\n"
      ],
      "execution_count": 0,
      "outputs": []
    },
    {
      "cell_type": "code",
      "metadata": {
        "id": "dY9HoqCeA4Sn",
        "colab_type": "code",
        "colab": {}
      },
      "source": [
        "# let's look at our first word and its new 3D word vectors\n"
      ],
      "execution_count": 0,
      "outputs": []
    },
    {
      "cell_type": "code",
      "metadata": {
        "id": "rEteZi0AA4Sp",
        "colab_type": "code",
        "colab": {}
      },
      "source": [
        "# each word and vector pair are coordinates\n"
      ],
      "execution_count": 0,
      "outputs": []
    },
    {
      "cell_type": "code",
      "metadata": {
        "id": "ItzVGAU-A4Ss",
        "colab_type": "code",
        "colab": {}
      },
      "source": [
        "# convert to a 3D dataframe\n"
      ],
      "execution_count": 0,
      "outputs": []
    },
    {
      "cell_type": "code",
      "metadata": {
        "id": "FFpWBB-7A4Su",
        "colab_type": "code",
        "colab": {}
      },
      "source": [
        "# for each word and coordinate pair: \n"
      ],
      "execution_count": 0,
      "outputs": []
    },
    {
      "cell_type": "code",
      "metadata": {
        "id": "LjOuxYWwA4Sw",
        "colab_type": "code",
        "colab": {}
      },
      "source": [
        "# now with plotly create a dictionary of values using the 'go.Scatter' class\n"
      ],
      "execution_count": 0,
      "outputs": []
    },
    {
      "cell_type": "code",
      "metadata": {
        "id": "uogt2v8FA4Sy",
        "colab_type": "code",
        "colab": {}
      },
      "source": [
        "enable_plotly_in_cell() # don't forget to include this! It's just for colab notebooks.\n",
        "# wrap that dictionary into a list and display using 'go.Figure' class\n"
      ],
      "execution_count": 0,
      "outputs": []
    },
    {
      "cell_type": "code",
      "metadata": {
        "id": "ilZmuqLAA4S3",
        "colab_type": "code",
        "colab": {}
      },
      "source": [
        ""
      ],
      "execution_count": 0,
      "outputs": []
    },
    {
      "cell_type": "code",
      "metadata": {
        "id": "nTQszzEtA4S5",
        "colab_type": "code",
        "colab": {}
      },
      "source": [
        ""
      ],
      "execution_count": 0,
      "outputs": []
    },
    {
      "cell_type": "markdown",
      "metadata": {
        "colab_type": "text",
        "id": "W0-g7aprRv2j"
      },
      "source": [
        "### 1. Vertical Line Test"
      ]
    },
    {
      "cell_type": "code",
      "metadata": {
        "colab_type": "code",
        "id": "fIJhCtF6RW_U",
        "colab": {}
      },
      "source": [
        "Create two graphs, one that passes the vertical line test and one that does not."
      ],
      "execution_count": 0,
      "outputs": []
    },
    {
      "cell_type": "code",
      "metadata": {
        "id": "uFw1yDPyA4TA",
        "colab_type": "code",
        "colab": {}
      },
      "source": [
        "# imports\n"
      ],
      "execution_count": 0,
      "outputs": []
    },
    {
      "cell_type": "code",
      "metadata": {
        "id": "qX18ZbKKA4TC",
        "colab_type": "code",
        "colab": {}
      },
      "source": [
        "# plot a line that passes the vertical line test\n"
      ],
      "execution_count": 0,
      "outputs": []
    },
    {
      "cell_type": "code",
      "metadata": {
        "id": "jtX_rK__A4TE",
        "colab_type": "code",
        "colab": {}
      },
      "source": [
        "# plot a line that doesn't pass the vertical line test\n"
      ],
      "execution_count": 0,
      "outputs": []
    },
    {
      "cell_type": "code",
      "metadata": {
        "id": "mKiclPCIA4TG",
        "colab_type": "code",
        "colab": {}
      },
      "source": [
        "# plot a line that doesn't pass the vertical line test\n"
      ],
      "execution_count": 0,
      "outputs": []
    },
    {
      "cell_type": "code",
      "metadata": {
        "id": "aoitfcEGA4TI",
        "colab_type": "code",
        "colab": {}
      },
      "source": [
        "# Why are graphs that fail the \"V-L test\" not considered \"functions?\""
      ],
      "execution_count": 0,
      "outputs": []
    },
    {
      "cell_type": "markdown",
      "metadata": {
        "colab_type": "text",
        "id": "g21uN62xSKSk"
      },
      "source": [
        "### 2. Functions as Relations"
      ]
    },
    {
      "cell_type": "code",
      "metadata": {
        "id": "9gY_QXtSA4TN",
        "colab_type": "code",
        "colab": {}
      },
      "source": [
        "# plot the function f(x) = 2x + 3\n"
      ],
      "execution_count": 0,
      "outputs": []
    },
    {
      "cell_type": "code",
      "metadata": {
        "id": "JtGGe8WjA4TP",
        "colab_type": "code",
        "colab": {}
      },
      "source": [
        "# Relation 0: (-2, -1), (-1, 1), (0, 3), (1 ,5), (2 ,7)\n"
      ],
      "execution_count": 0,
      "outputs": []
    },
    {
      "cell_type": "code",
      "metadata": {
        "id": "237pSXyuA4TR",
        "colab_type": "code",
        "colab": {}
      },
      "source": [
        "# Relation 1: (-2, -1), (-2, 1), (2, 3)\n"
      ],
      "execution_count": 0,
      "outputs": []
    },
    {
      "cell_type": "code",
      "metadata": {
        "id": "EBUvGCiXA4TU",
        "colab_type": "code",
        "colab": {}
      },
      "source": [
        "# Relation 2: (-2, 5), (-1, 5), (0, 5)\n",
        "# no two different y values mapped to same x value!\n"
      ],
      "execution_count": 0,
      "outputs": []
    },
    {
      "cell_type": "code",
      "metadata": {
        "id": "eOpmoU8WA4TX",
        "colab_type": "code",
        "colab": {}
      },
      "source": [
        "# Relation 3: (0, -1), (-1, 1), (0, 3)\n"
      ],
      "execution_count": 0,
      "outputs": []
    },
    {
      "cell_type": "markdown",
      "metadata": {
        "colab_type": "text",
        "id": "y0U30PrlTAAa"
      },
      "source": [
        "### 3. Functions as a mapping between dimensions"
      ]
    },
    {
      "cell_type": "code",
      "metadata": {
        "id": "tPQ8VNlNA4Td",
        "colab_type": "code",
        "colab": {}
      },
      "source": [
        "# plot the function g(a1, a2) = a1 + a2\n"
      ],
      "execution_count": 0,
      "outputs": []
    },
    {
      "cell_type": "code",
      "metadata": {
        "id": "UuhJmS9pA4Tf",
        "colab_type": "code",
        "colab": {}
      },
      "source": [
        "# what is the dimensionality of the domain (input)?\n",
        "# and codomain (range/output)?"
      ],
      "execution_count": 0,
      "outputs": []
    },
    {
      "cell_type": "code",
      "metadata": {
        "id": "LMxwy0SoA4Th",
        "colab_type": "code",
        "colab": {}
      },
      "source": [
        "# Plot this function with example data"
      ],
      "execution_count": 0,
      "outputs": []
    },
    {
      "cell_type": "code",
      "metadata": {
        "id": "Iy3EDb4oA4Tj",
        "colab_type": "code",
        "colab": {}
      },
      "source": [
        "# plot the function h(z1, z2, z3) = (z1 + 2, z2-z3)\n"
      ],
      "execution_count": 0,
      "outputs": []
    },
    {
      "cell_type": "markdown",
      "metadata": {
        "colab_type": "text",
        "id": "2nEWvwVyVWdW"
      },
      "source": [
        "### 4. Vector Transformations"
      ]
    },
    {
      "cell_type": "code",
      "metadata": {
        "id": "8wEPAd7FA4Tn",
        "colab_type": "code",
        "colab": {}
      },
      "source": [
        "# write a function to imitate the lecture notebook:\n"
      ],
      "execution_count": 0,
      "outputs": []
    },
    {
      "cell_type": "code",
      "metadata": {
        "id": "yYfqbI4XA4Tp",
        "colab_type": "code",
        "colab": {}
      },
      "source": [
        "# Apply f to x-axis unit vector \n"
      ],
      "execution_count": 0,
      "outputs": []
    },
    {
      "cell_type": "code",
      "metadata": {
        "id": "7DFpsY8EA4Tr",
        "colab_type": "code",
        "colab": {}
      },
      "source": [
        "# Apply f to y-axis unit vector\n"
      ],
      "execution_count": 0,
      "outputs": []
    },
    {
      "cell_type": "code",
      "metadata": {
        "id": "tnrYcXlPA4Tu",
        "colab_type": "code",
        "colab": {}
      },
      "source": [
        "# Turn those into a matrix \n",
        "# (notice this cool np trick for combining column vectors)\n"
      ],
      "execution_count": 0,
      "outputs": []
    },
    {
      "cell_type": "code",
      "metadata": {
        "id": "eFPnOVD5A4Tw",
        "colab_type": "code",
        "colab": {}
      },
      "source": [
        "# Turn those into a dataframe, for comparison\n"
      ],
      "execution_count": 0,
      "outputs": []
    },
    {
      "cell_type": "code",
      "metadata": {
        "id": "FZBS8abnA4Tz",
        "colab_type": "code",
        "colab": {}
      },
      "source": [
        "# use the original function again\n"
      ],
      "execution_count": 0,
      "outputs": []
    },
    {
      "cell_type": "code",
      "metadata": {
        "id": "jikLCdgaA4T1",
        "colab_type": "code",
        "colab": {}
      },
      "source": [
        "# Now lets do it via matrix multiplication (ie, by hand).\n",
        "# Do we get the same answer?\n"
      ],
      "execution_count": 0,
      "outputs": []
    },
    {
      "cell_type": "code",
      "metadata": {
        "id": "xBxHWbCsA4T2",
        "colab_type": "code",
        "colab": {}
      },
      "source": [
        "# Display that transformation visually.\n",
        "print('f(2*x1+x2, −3*x2+x1)')"
      ],
      "execution_count": 0,
      "outputs": []
    },
    {
      "cell_type": "code",
      "metadata": {
        "id": "kxBkIgypA4T4",
        "colab_type": "code",
        "colab": {}
      },
      "source": [
        "# What exactly is the take-away from all of this?\n"
      ],
      "execution_count": 0,
      "outputs": []
    },
    {
      "cell_type": "code",
      "metadata": {
        "id": "_Uv7nH9lA4T6",
        "colab_type": "code",
        "colab": {}
      },
      "source": [
        "# Wait. what?\n"
      ],
      "execution_count": 0,
      "outputs": []
    },
    {
      "cell_type": "markdown",
      "metadata": {
        "colab_type": "text",
        "id": "vEoiri3mak7j"
      },
      "source": [
        "### 5. Eigenvalues and Eigenvectors"
      ]
    },
    {
      "cell_type": "code",
      "metadata": {
        "id": "N9sApYb1A4T9",
        "colab_type": "code",
        "colab": {}
      },
      "source": [
        "# Suppose we have a linear transformation (matrix T).\n"
      ],
      "execution_count": 0,
      "outputs": []
    },
    {
      "cell_type": "code",
      "metadata": {
        "id": "eBp9pOe9A4T_",
        "colab_type": "code",
        "colab": {}
      },
      "source": [
        "# The numpy 'eig' function returns a tuple of two values.\n"
      ],
      "execution_count": 0,
      "outputs": []
    },
    {
      "cell_type": "code",
      "metadata": {
        "id": "MyXxc109A4UA",
        "colab_type": "code",
        "colab": {}
      },
      "source": [
        "# Tuple[0] contains the eigenvalues (one for each column).\n"
      ],
      "execution_count": 0,
      "outputs": []
    },
    {
      "cell_type": "code",
      "metadata": {
        "id": "41VYqLrHA4UC",
        "colab_type": "code",
        "colab": {}
      },
      "source": [
        "#  Tuple[1] contains the corresponding eigenvectors, as columns. \n"
      ],
      "execution_count": 0,
      "outputs": []
    },
    {
      "cell_type": "code",
      "metadata": {
        "id": "HfQGg8gUA4UF",
        "colab_type": "code",
        "colab": {}
      },
      "source": [
        "# To get the first eigenvector and its eigenvalue:\n"
      ],
      "execution_count": 0,
      "outputs": []
    },
    {
      "cell_type": "code",
      "metadata": {
        "id": "7giQ_06bA4UI",
        "colab_type": "code",
        "colab": {}
      },
      "source": [
        "# Dot product of matrix and first eigenvector:\n"
      ],
      "execution_count": 0,
      "outputs": []
    },
    {
      "cell_type": "code",
      "metadata": {
        "id": "52grY_s4A4UM",
        "colab_type": "code",
        "colab": {}
      },
      "source": [
        "# Same as multiplying first eigenvalue and eigenvector:\n"
      ],
      "execution_count": 0,
      "outputs": []
    },
    {
      "cell_type": "code",
      "metadata": {
        "id": "rAJVoRNiA4UP",
        "colab_type": "code",
        "colab": {}
      },
      "source": [
        "# Create a new matrix, with the eigenvalaues on the diagonal.\n"
      ],
      "execution_count": 0,
      "outputs": []
    },
    {
      "cell_type": "code",
      "metadata": {
        "id": "SzGUo270A4US",
        "colab_type": "code",
        "colab": {}
      },
      "source": [
        "# Why is this important?\n"
      ],
      "execution_count": 0,
      "outputs": []
    },
    {
      "cell_type": "code",
      "metadata": {
        "id": "GeOjNwYKA4UV",
        "colab_type": "code",
        "colab": {}
      },
      "source": [
        "# Okay, do this for any matrix.\n"
      ],
      "execution_count": 0,
      "outputs": []
    },
    {
      "cell_type": "markdown",
      "metadata": {
        "id": "jOSYhp9hA4UX",
        "colab_type": "text"
      },
      "source": [
        "More info [here](https://www.math.ubc.ca/~pwalls/math-python/linear-algebra/eigenvalues-eigenvectors) about how to use eigenvalues to diagonalize a matrix."
      ]
    },
    {
      "cell_type": "markdown",
      "metadata": {
        "colab_type": "text",
        "id": "VdehMwBtatKI"
      },
      "source": [
        "### 6. The Curse of Dimensionality"
      ]
    },
    {
      "cell_type": "code",
      "metadata": {
        "id": "CZDarProA4UY",
        "colab_type": "code",
        "colab": {}
      },
      "source": [
        "# What is the curse of dimensionality?\n"
      ],
      "execution_count": 0,
      "outputs": []
    },
    {
      "cell_type": "code",
      "metadata": {
        "id": "nx5W4dXwA4Ub",
        "colab_type": "code",
        "colab": {}
      },
      "source": [
        "# Make a dataframe of 50 points\n"
      ],
      "execution_count": 0,
      "outputs": []
    },
    {
      "cell_type": "code",
      "metadata": {
        "id": "Mo1YQjAlA4Ud",
        "colab_type": "code",
        "colab": {}
      },
      "source": [
        "# Plot the floats on a one-dimensional number line\n"
      ],
      "execution_count": 0,
      "outputs": []
    },
    {
      "cell_type": "code",
      "metadata": {
        "id": "TzIlmt0rA4Uf",
        "colab_type": "code",
        "colab": {}
      },
      "source": [
        "# Add a y column\n"
      ],
      "execution_count": 0,
      "outputs": []
    },
    {
      "cell_type": "code",
      "metadata": {
        "id": "3_EC-nPsA4Ug",
        "colab_type": "code",
        "colab": {}
      },
      "source": [
        "# Graph 2D data on a 2D plot\n"
      ],
      "execution_count": 0,
      "outputs": []
    },
    {
      "cell_type": "code",
      "metadata": {
        "id": "Xjp24HyeA4Ui",
        "colab_type": "code",
        "colab": {}
      },
      "source": [
        "# Add a z column\n"
      ],
      "execution_count": 0,
      "outputs": []
    },
    {
      "cell_type": "code",
      "metadata": {
        "id": "mmT4IZ7HA4Uk",
        "colab_type": "code",
        "colab": {}
      },
      "source": [
        "# Graph 3-Dimensional Data \n"
      ],
      "execution_count": 0,
      "outputs": []
    },
    {
      "cell_type": "markdown",
      "metadata": {
        "colab_type": "text",
        "id": "NZmqdeygbHJx"
      },
      "source": [
        "### 7. Principal Component Analysis"
      ]
    },
    {
      "cell_type": "code",
      "metadata": {
        "id": "cWKpaVzhA4Um",
        "colab_type": "code",
        "colab": {}
      },
      "source": [
        "# load the Wisconsin Breast Cancer dataset\n",
        "url='https://raw.githubusercontent.com/austinlasseter/DS-Unit-1-Sprint-3-Linear-Algebra/master/module3-dimensionality-reduction/cancer.csv'\n"
      ],
      "execution_count": 0,
      "outputs": []
    },
    {
      "cell_type": "code",
      "metadata": {
        "id": "jzWR3MIFA4Uo",
        "colab_type": "code",
        "colab": {}
      },
      "source": [
        "# Try to visualize a little bit of this dataset.\n",
        "# Purple=0, Yellow=1\n"
      ],
      "execution_count": 0,
      "outputs": []
    },
    {
      "cell_type": "code",
      "metadata": {
        "id": "RtSv1MymA4Uq",
        "colab_type": "code",
        "colab": {}
      },
      "source": [
        "# Now in 3D\n"
      ],
      "execution_count": 0,
      "outputs": []
    },
    {
      "cell_type": "code",
      "metadata": {
        "id": "FempQGsjA4Us",
        "colab_type": "code",
        "colab": {}
      },
      "source": [
        "# start by Standardizing the data \n",
        "# why? PCA's output is influenced by the scale of the features.\n"
      ],
      "execution_count": 0,
      "outputs": []
    },
    {
      "cell_type": "code",
      "metadata": {
        "id": "TTV0egwPA4Ut",
        "colab_type": "code",
        "colab": {}
      },
      "source": [
        "# normalizing the features\n"
      ],
      "execution_count": 0,
      "outputs": []
    },
    {
      "cell_type": "code",
      "metadata": {
        "id": "cHZYkv6-A4Uv",
        "colab_type": "code",
        "colab": {}
      },
      "source": [
        "# Check whether the data is normalized."
      ],
      "execution_count": 0,
      "outputs": []
    },
    {
      "cell_type": "code",
      "metadata": {
        "id": "3gy73VbQA4Uz",
        "colab_type": "code",
        "colab": {}
      },
      "source": [
        "# convert the normalized features into a dataframe\n"
      ],
      "execution_count": 0,
      "outputs": []
    },
    {
      "cell_type": "code",
      "metadata": {
        "id": "A0QIXPKVA4U2",
        "colab_type": "code",
        "colab": {}
      },
      "source": [
        "# use the sklearn library to import the PCA module\n"
      ],
      "execution_count": 0,
      "outputs": []
    },
    {
      "cell_type": "code",
      "metadata": {
        "id": "m5lpFIr_A4U3",
        "colab_type": "code",
        "colab": {}
      },
      "source": [
        "# instantiate the sklearn class & pass the desired number of components \n"
      ],
      "execution_count": 0,
      "outputs": []
    },
    {
      "cell_type": "code",
      "metadata": {
        "id": "Bp2BilXoA4U5",
        "colab_type": "code",
        "colab": {}
      },
      "source": [
        "# call fit_transform on the aggregate data\n"
      ],
      "execution_count": 0,
      "outputs": []
    },
    {
      "cell_type": "code",
      "metadata": {
        "id": "bqP8hysgA4U7",
        "colab_type": "code",
        "colab": {}
      },
      "source": [
        "# create a DataFrame with principal component values for all 569 samples\n"
      ],
      "execution_count": 0,
      "outputs": []
    },
    {
      "cell_type": "code",
      "metadata": {
        "id": "Odly0QmLA4U9",
        "colab_type": "code",
        "colab": {}
      },
      "source": [
        "#  how much variation did each principal component explain?\n"
      ],
      "execution_count": 0,
      "outputs": []
    },
    {
      "cell_type": "code",
      "metadata": {
        "id": "iL7AOwuxA4U_",
        "colab_type": "code",
        "colab": {}
      },
      "source": [
        "# How much total variance did we explain?\n"
      ],
      "execution_count": 0,
      "outputs": []
    },
    {
      "cell_type": "code",
      "metadata": {
        "id": "xDcxutnYA4VB",
        "colab_type": "code",
        "colab": {}
      },
      "source": [
        "# How much variance did we not explain (i.e., lost information)?\n"
      ],
      "execution_count": 0,
      "outputs": []
    },
    {
      "cell_type": "code",
      "metadata": {
        "id": "ATRAoc2oA4VE",
        "colab_type": "code",
        "colab": {}
      },
      "source": [
        "# add back in the type of tumor\n"
      ],
      "execution_count": 0,
      "outputs": []
    },
    {
      "cell_type": "code",
      "metadata": {
        "id": "BsC62OdnA4VJ",
        "colab_type": "code",
        "colab": {}
      },
      "source": [
        "# plot the visualization of the data by the components\n",
        "plt.figure(figsize=(10,10))\n",
        "plt.xlabel('Component 1')\n",
        "plt.ylabel('Component 2')\n"
      ],
      "execution_count": 0,
      "outputs": []
    },
    {
      "cell_type": "code",
      "metadata": {
        "id": "-t56elhaA4VL",
        "colab_type": "code",
        "colab": {}
      },
      "source": [
        ""
      ],
      "execution_count": 0,
      "outputs": []
    }
  ]
}